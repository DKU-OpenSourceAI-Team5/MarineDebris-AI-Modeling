{
  "nbformat": 4,
  "nbformat_minor": 0,
  "metadata": {
    "colab": {
      "provenance": [],
      "gpuType": "T4"
    },
    "kernelspec": {
      "name": "python3",
      "display_name": "Python 3"
    },
    "language_info": {
      "name": "python"
    },
    "accelerator": "GPU"
  },
  "cells": [
    {
      "cell_type": "code",
      "execution_count": null,
      "metadata": {
        "colab": {
          "base_uri": "https://localhost:8080/"
        },
        "id": "T0gtAznYn-_C",
        "outputId": "ff969ec7-5f5c-4220-cf8e-f5bc772e96ff"
      },
      "outputs": [
        {
          "output_type": "stream",
          "name": "stdout",
          "text": [
            "Drive already mounted at /content/drive; to attempt to forcibly remount, call drive.mount(\"/content/drive\", force_remount=True).\n"
          ]
        }
      ],
      "source": [
        "from google.colab import drive\n",
        "drive.mount('/content/drive')"
      ]
    },
    {
      "cell_type": "code",
      "source": [
        "import json\n",
        "from pathlib import Path\n",
        "import numpy as np\n",
        "import tensorflow as tf\n",
        "from keras.utils import to_categorical\n",
        "from sklearn.model_selection import train_test_split\n",
        "from sklearn.preprocessing import LabelEncoder\n",
        "from sklearn.preprocessing import LabelBinarizer\n",
        "from PIL import Image\n",
        "from keras import models, layers\n",
        "from keras.models import Sequential\n",
        "from keras.layers import Conv2D, MaxPooling2D, Flatten, Dense"
      ],
      "metadata": {
        "id": "9OJ7clGXoAZt"
      },
      "execution_count": null,
      "outputs": []
    },
    {
      "cell_type": "code",
      "source": [
        "# JSON 파일들이 있는 디렉토리 경로\n",
        "json_directory_path = '/content/drive/MyDrive/ColabNotebooks/2023/opensource/trash_label/'\n",
        "\n",
        "# 이미지 파일들이 있는 디렉토리 경로\n",
        "image_directory_path = '/content/drive/MyDrive/ColabNotebooks/2023/opensource/trash_image/'"
      ],
      "metadata": {
        "id": "Byd93_UdoAva"
      },
      "execution_count": null,
      "outputs": []
    },
    {
      "cell_type": "code",
      "source": [
        "# 이미지와 라벨을 저장할 리스트\n",
        "images = []\n",
        "labels = []\n",
        "\n",
        "# 지정된 디렉토리에서 JSON 파일을 읽어오기 위한 파일 리스트 생성\n",
        "data_size = 1000\n",
        "json_files = list(Path(json_directory_path).rglob('*.json'))[:data_size]\n",
        "\n",
        "for json_file in json_files:\n",
        "    with open(json_file, 'r') as f:\n",
        "        data = json.load(f)\n",
        "\n",
        "        # 이미지 경로\n",
        "        image_path = Path(image_directory_path) / data['imagePath']\n",
        "\n",
        "        # 이미지 불러오기\n",
        "        image = np.array(Image.open(image_path))\n",
        "\n",
        "        # 라벨 정보 추출\n",
        "        shapes = data.get('shapes', [])\n",
        "        for shape in shapes:\n",
        "            label = shape['label']\n",
        "            points = shape['points']\n",
        "\n",
        "            images.append(image)\n",
        "            labels.append(label)"
      ],
      "metadata": {
        "id": "nTvlUUrOuIwz"
      },
      "execution_count": null,
      "outputs": []
    },
    {
      "cell_type": "code",
      "source": [
        "# 이미지와 라벨을 넘파이 배열로 변환\n",
        "images = np.array(images)\n",
        "labels = np.array(labels)\n",
        "\n",
        "# 라벨을 정수로 변환 (라벨 인코딩)\n",
        "label_binarizer = LabelBinarizer()\n",
        "labels_encoded = label_binarizer.fit_transform(labels)\n",
        "\n",
        "# 데이터 분할\n",
        "train_images, test_images, train_labels, test_labels = train_test_split(images, labels_encoded, test_size=0.2, random_state=42)"
      ],
      "metadata": {
        "colab": {
          "base_uri": "https://localhost:8080/"
        },
        "id": "pYMZYOMIoKtB",
        "outputId": "34d10b42-1e61-4a93-d3de-df5b155a33a8"
      },
      "execution_count": null,
      "outputs": [
        {
          "output_type": "stream",
          "name": "stderr",
          "text": [
            "<ipython-input-6-c7633c8238bc>:2: VisibleDeprecationWarning: Creating an ndarray from ragged nested sequences (which is a list-or-tuple of lists-or-tuples-or ndarrays with different lengths or shapes) is deprecated. If you meant to do this, you must specify 'dtype=object' when creating the ndarray.\n",
            "  images = np.array(images)\n"
          ]
        }
      ]
    },
    {
      "cell_type": "code",
      "source": [
        "# 이미지 크기 조정\n",
        "target_image_size = (224, 224)\n",
        "train_images_resized = [tf.image.resize(image, target_image_size) for image in train_images]\n",
        "test_images_resized = [tf.image.resize(image, target_image_size) for image in test_images]"
      ],
      "metadata": {
        "id": "tPDn5uPeoPN2"
      },
      "execution_count": null,
      "outputs": []
    },
    {
      "cell_type": "code",
      "source": [
        "# 이미지를 TensorFlow 텐서로 변환\n",
        "train_images_tensor = tf.convert_to_tensor(train_images_resized, dtype=tf.float32)\n",
        "test_images_tensor = tf.convert_to_tensor(test_images_resized, dtype=tf.float32)\n",
        "\n",
        "# 라벨을 TensorFlow 텐서로 변환\n",
        "train_labels_tensor = tf.convert_to_tensor(train_labels, dtype=tf.float32)\n",
        "test_labels_tensor = tf.convert_to_tensor(test_labels, dtype=tf.float32)"
      ],
      "metadata": {
        "id": "FYHPNZP-oQv2"
      },
      "execution_count": null,
      "outputs": []
    },
    {
      "cell_type": "code",
      "source": [
        "# CNN 모델 생성\n",
        "model = Sequential()\n",
        "model.add(Conv2D(32, (3, 3), activation='relu', input_shape=(target_image_size[0], target_image_size[1], 3)))\n",
        "model.add(MaxPooling2D((2, 2)))\n",
        "model.add(Conv2D(64, (3, 3), activation='relu'))\n",
        "model.add(MaxPooling2D((2, 2)))\n",
        "model.add(Conv2D(128, (3, 3), activation='relu'))\n",
        "model.add(MaxPooling2D((2, 2)))\n",
        "model.add(Flatten())\n",
        "model.add(Dense(128, activation='relu'))\n",
        "model.add(Dense(len(label_binarizer.classes_), activation='softmax'))\n",
        "\n",
        "# 모델 컴파일\n",
        "model.compile(optimizer='adam', loss='categorical_crossentropy', metrics=['accuracy'])"
      ],
      "metadata": {
        "id": "SLDbDVv-oR82"
      },
      "execution_count": null,
      "outputs": []
    },
    {
      "cell_type": "code",
      "source": [
        "# 모델 훈련\n",
        "epochs = 5\n",
        "batch_size = 16\n",
        "\n",
        "history = model.fit(\n",
        "    train_images_tensor, train_labels_tensor,\n",
        "    epochs=epochs,\n",
        "    batch_size=batch_size,\n",
        "    validation_data=(test_images_tensor, test_labels_tensor)\n",
        ")"
      ],
      "metadata": {
        "id": "cQPuqtjMoTTh"
      },
      "execution_count": null,
      "outputs": []
    },
    {
      "cell_type": "code",
      "source": [
        "# 정확도 확인\n",
        "test_loss, test_accuracy = model.evaluate(test_images_np, test_labels)\n",
        "print('\\n-*-*-*-*-*-*-*-*-*-*-*-*-*-*-*-*-*-*-*-*-*-*-*-*-*-*-*-*')\n",
        "print(f'Dataset Size: {data_size}')\n",
        "print(f'Test Loss: {test_loss:.4f}')\n",
        "print(f'Test Accuracy: {test_accuracy:.4f}')\n",
        "print('-*-*-*-*-*-*-*-*-*-*-*-*-*-*-*-*-*-*-*-*-*-*-*-*-*-*-*-*')"
      ],
      "metadata": {
        "id": "MbTL4lGdocFd"
      },
      "execution_count": null,
      "outputs": []
    }
  ]
}